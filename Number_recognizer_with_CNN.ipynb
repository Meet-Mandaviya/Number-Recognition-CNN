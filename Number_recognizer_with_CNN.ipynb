{
  "cells": [
    {
      "cell_type": "code",
      "execution_count": null,
      "id": "d5c57d9c",
      "metadata": {
        "execution": {
          "iopub.execute_input": "2023-08-08T19:34:27.393199Z",
          "iopub.status.busy": "2023-08-08T19:34:27.392414Z",
          "iopub.status.idle": "2023-08-08T19:34:36.467129Z",
          "shell.execute_reply": "2023-08-08T19:34:36.466102Z"
        },
        "papermill": {
          "duration": 9.084395,
          "end_time": "2023-08-08T19:34:36.469619",
          "exception": false,
          "start_time": "2023-08-08T19:34:27.385224",
          "status": "completed"
        },
        "tags": [],
        "id": "d5c57d9c"
      },
      "outputs": [],
      "source": [
        "import warnings\n",
        "warnings.filterwarnings('ignore')\n",
        "\n",
        "import pandas as pd\n",
        "import numpy as np\n",
        "import seaborn as sns\n",
        "from sklearn.model_selection import train_test_split\n",
        "\n",
        "import matplotlib.pyplot as plt\n",
        "from keras.datasets import mnist\n",
        "from keras.utils import plot_model\n",
        "from keras.utils import to_categorical\n",
        "from keras.models import Sequential\n",
        "from keras.layers import Dense, Dropout, Flatten, Conv2D, MaxPool2D, BatchNormalization\n",
        "from keras.optimizers import RMSprop, Adam, SGD\n",
        "from keras.preprocessing.image import ImageDataGenerator"
      ]
    },
    {
      "cell_type": "code",
      "source": [
        "from google.colab import drive\n",
        "drive.mount('/content/drive')"
      ],
      "metadata": {
        "colab": {
          "base_uri": "https://localhost:8080/"
        },
        "id": "C9fOwnjGk5mt",
        "outputId": "c08739f3-e107-42a7-e316-fe82e34b46c0"
      },
      "id": "C9fOwnjGk5mt",
      "execution_count": null,
      "outputs": [
        {
          "output_type": "stream",
          "name": "stdout",
          "text": [
            "Drive already mounted at /content/drive; to attempt to forcibly remount, call drive.mount(\"/content/drive\", force_remount=True).\n"
          ]
        }
      ]
    },
    {
      "cell_type": "code",
      "execution_count": null,
      "id": "4c6b8c63",
      "metadata": {
        "execution": {
          "iopub.execute_input": "2023-08-08T19:34:36.482878Z",
          "iopub.status.busy": "2023-08-08T19:34:36.481440Z",
          "iopub.status.idle": "2023-08-08T19:34:42.104367Z",
          "shell.execute_reply": "2023-08-08T19:34:42.103310Z"
        },
        "papermill": {
          "duration": 5.632151,
          "end_time": "2023-08-08T19:34:42.107246",
          "exception": false,
          "start_time": "2023-08-08T19:34:36.475095",
          "status": "completed"
        },
        "tags": [],
        "id": "4c6b8c63"
      },
      "outputs": [],
      "source": [
        "# Load the kaggle digit dataset\n",
        "train = pd.read_csv('/content/drive/MyDrive/Colab Notebooks/Digit Recognition/train.csv')\n",
        "test = pd.read_csv('/content/drive/MyDrive/Colab Notebooks/Digit Recognition/test.csv')\n",
        "\n",
        "Y_train = train[\"label\"]\n",
        "X_train = train.drop(labels=[\"label\"], axis=1)"
      ]
    },
    {
      "cell_type": "code",
      "execution_count": null,
      "id": "09837493",
      "metadata": {
        "execution": {
          "iopub.execute_input": "2023-08-08T19:34:42.120239Z",
          "iopub.status.busy": "2023-08-08T19:34:42.119896Z",
          "iopub.status.idle": "2023-08-08T19:34:42.131474Z",
          "shell.execute_reply": "2023-08-08T19:34:42.130438Z"
        },
        "papermill": {
          "duration": 0.021129,
          "end_time": "2023-08-08T19:34:42.134440",
          "exception": false,
          "start_time": "2023-08-08T19:34:42.113311",
          "status": "completed"
        },
        "tags": [],
        "colab": {
          "base_uri": "https://localhost:8080/"
        },
        "id": "09837493",
        "outputId": "86d332e1-2152-4c85-fb74-024ee10b7264"
      },
      "outputs": [
        {
          "output_type": "execute_result",
          "data": {
            "text/plain": [
              "1    4684\n",
              "7    4401\n",
              "3    4351\n",
              "9    4188\n",
              "2    4177\n",
              "6    4137\n",
              "0    4132\n",
              "4    4072\n",
              "8    4063\n",
              "5    3795\n",
              "Name: label, dtype: int64"
            ]
          },
          "metadata": {},
          "execution_count": 6
        }
      ],
      "source": [
        "Y_train.value_counts()"
      ]
    },
    {
      "cell_type": "code",
      "execution_count": null,
      "id": "8db2ad87",
      "metadata": {
        "execution": {
          "iopub.execute_input": "2023-08-08T19:34:42.145729Z",
          "iopub.status.busy": "2023-08-08T19:34:42.145431Z",
          "iopub.status.idle": "2023-08-08T19:34:42.440851Z",
          "shell.execute_reply": "2023-08-08T19:34:42.439916Z"
        },
        "papermill": {
          "duration": 0.30363,
          "end_time": "2023-08-08T19:34:42.443058",
          "exception": false,
          "start_time": "2023-08-08T19:34:42.139428",
          "status": "completed"
        },
        "tags": [],
        "colab": {
          "base_uri": "https://localhost:8080/",
          "height": 466
        },
        "id": "8db2ad87",
        "outputId": "135ada90-a1a2-4bec-f93f-72558851ec76"
      },
      "outputs": [
        {
          "output_type": "execute_result",
          "data": {
            "text/plain": [
              "<Axes: xlabel='label', ylabel='count'>"
            ]
          },
          "metadata": {},
          "execution_count": 7
        },
        {
          "output_type": "display_data",
          "data": {
            "text/plain": [
              "<Figure size 640x480 with 1 Axes>"
            ],
            "image/png": "[encoded data removed]"
          },
          "metadata": {}
        }
      ],
      "source": [
        "sns.countplot(data=train, x=\"label\")"
      ]
    },
    {
      "cell_type": "code",
      "execution_count": null,
      "id": "55a9b85e",
      "metadata": {
        "execution": {
          "iopub.execute_input": "2023-08-08T19:34:42.455685Z",
          "iopub.status.busy": "2023-08-08T19:34:42.455377Z",
          "iopub.status.idle": "2023-08-08T19:34:44.223558Z",
          "shell.execute_reply": "2023-08-08T19:34:44.222539Z"
        },
        "papermill": {
          "duration": 1.777481,
          "end_time": "2023-08-08T19:34:44.226159",
          "exception": false,
          "start_time": "2023-08-08T19:34:42.448678",
          "status": "completed"
        },
        "tags": [],
        "colab": {
          "base_uri": "https://localhost:8080/"
        },
        "id": "55a9b85e",
        "outputId": "0cad4eb4-b7e6-436b-c5b3-91945fca9c3a"
      },
      "outputs": [
        {
          "output_type": "stream",
          "name": "stdout",
          "text": [
            "Downloading data from https://storage.googleapis.com/tensorflow/tf-keras-datasets/mnist.npz\n",
            "11490434/11490434 [==============================] - 0s 0us/step\n"
          ]
        }
      ],
      "source": [
        "# Load the keras MNIST dataset\n",
        "(x_train1, y_train1), (x_test1, y_test1) = mnist.load_data()\n",
        "\n",
        "train1 = np.concatenate([x_train1, x_test1], axis=0)\n",
        "y_train1 = np.concatenate([y_train1, y_test1], axis=0)\n",
        "\n",
        "Y_train1 = y_train1\n",
        "X_train1 = train1.reshape(-1, 28 * 28)"
      ]
    },
    {
      "cell_type": "code",
      "execution_count": null,
      "id": "4e334018",
      "metadata": {
        "execution": {
          "iopub.execute_input": "2023-08-08T19:34:44.241564Z",
          "iopub.status.busy": "2023-08-08T19:34:44.240714Z",
          "iopub.status.idle": "2023-08-08T19:34:44.546155Z",
          "shell.execute_reply": "2023-08-08T19:34:44.545129Z"
        },
        "papermill": {
          "duration": 0.315523,
          "end_time": "2023-08-08T19:34:44.548587",
          "exception": false,
          "start_time": "2023-08-08T19:34:44.233064",
          "status": "completed"
        },
        "tags": [],
        "id": "4e334018"
      },
      "outputs": [],
      "source": [
        "X_train = X_train / 255.0\n",
        "X_test = test / 255.0\n",
        "X_train1 = X_train1 / 255.0"
      ]
    },
    {
      "cell_type": "code",
      "execution_count": null,
      "id": "3397e2fe",
      "metadata": {
        "execution": {
          "iopub.execute_input": "2023-08-08T19:34:44.564081Z",
          "iopub.status.busy": "2023-08-08T19:34:44.563751Z",
          "iopub.status.idle": "2023-08-08T19:34:44.829132Z",
          "shell.execute_reply": "2023-08-08T19:34:44.828030Z"
        },
        "papermill": {
          "duration": 0.275768,
          "end_time": "2023-08-08T19:34:44.831591",
          "exception": false,
          "start_time": "2023-08-08T19:34:44.555823",
          "status": "completed"
        },
        "tags": [],
        "id": "3397e2fe"
      },
      "outputs": [],
      "source": [
        "X_train = np.concatenate((X_train, X_train1))\n",
        "Y_train = np.concatenate((Y_train, Y_train1))"
      ]
    },
    {
      "cell_type": "code",
      "execution_count": null,
      "id": "76079b74",
      "metadata": {
        "execution": {
          "iopub.execute_input": "2023-08-08T19:34:44.846519Z",
          "iopub.status.busy": "2023-08-08T19:34:44.846210Z",
          "iopub.status.idle": "2023-08-08T19:34:44.850823Z",
          "shell.execute_reply": "2023-08-08T19:34:44.849859Z"
        },
        "papermill": {
          "duration": 0.014355,
          "end_time": "2023-08-08T19:34:44.852888",
          "exception": false,
          "start_time": "2023-08-08T19:34:44.838533",
          "status": "completed"
        },
        "tags": [],
        "id": "76079b74"
      },
      "outputs": [],
      "source": [
        "X_train = X_train.reshape(-1, 28, 28, 1)\n",
        "X_test = X_test.values.reshape(-1, 28, 28, 1)"
      ]
    },
    {
      "cell_type": "code",
      "execution_count": null,
      "id": "24aa9428",
      "metadata": {
        "execution": {
          "iopub.execute_input": "2023-08-08T19:34:44.867389Z",
          "iopub.status.busy": "2023-08-08T19:34:44.867106Z",
          "iopub.status.idle": "2023-08-08T19:34:44.874265Z",
          "shell.execute_reply": "2023-08-08T19:34:44.873418Z"
        },
        "papermill": {
          "duration": 0.016827,
          "end_time": "2023-08-08T19:34:44.876314",
          "exception": false,
          "start_time": "2023-08-08T19:34:44.859487",
          "status": "completed"
        },
        "tags": [],
        "id": "24aa9428"
      },
      "outputs": [],
      "source": [
        "# Encode labels into one-hot vectors\n",
        "# \"Label 2 ---> (0, 0, 1, 0, 0, 0, 0, 0, 0, 0)\"\n",
        "Y_train = to_categorical(Y_train, num_classes=10)"
      ]
    },
    {
      "cell_type": "code",
      "execution_count": null,
      "id": "ccd9e9ac",
      "metadata": {
        "execution": {
          "iopub.execute_input": "2023-08-08T19:34:44.891068Z",
          "iopub.status.busy": "2023-08-08T19:34:44.890216Z",
          "iopub.status.idle": "2023-08-08T19:34:45.143125Z",
          "shell.execute_reply": "2023-08-08T19:34:45.138516Z"
        },
        "papermill": {
          "duration": 0.265077,
          "end_time": "2023-08-08T19:34:45.147904",
          "exception": false,
          "start_time": "2023-08-08T19:34:44.882827",
          "status": "completed"
        },
        "tags": [],
        "colab": {
          "base_uri": "https://localhost:8080/"
        },
        "id": "ccd9e9ac",
        "outputId": "e07e0862-2da2-46ed-e2af-96c5f65b97a5"
      },
      "outputs": [
        {
          "output_type": "execute_result",
          "data": {
            "text/plain": [
              "((100800, 28, 28, 1), (11200, 28, 28, 1), (100800, 10), (11200, 10))"
            ]
          },
          "metadata": {},
          "execution_count": 13
        }
      ],
      "source": [
        "# Split the training and validation set\n",
        "X_train, X_val, Y_train, Y_val = train_test_split(X_train, Y_train, test_size=0.1, random_state=2)\n",
        "\n",
        "X_train.shape, X_val.shape, Y_train.shape, Y_val.shape"
      ]
    },
    {
      "cell_type": "code",
      "execution_count": null,
      "id": "b0a4ed12",
      "metadata": {
        "execution": {
          "iopub.execute_input": "2023-08-08T19:34:45.179176Z",
          "iopub.status.busy": "2023-08-08T19:34:45.178607Z",
          "iopub.status.idle": "2023-08-08T19:34:48.191153Z",
          "shell.execute_reply": "2023-08-08T19:34:48.190049Z"
        },
        "papermill": {
          "duration": 3.028131,
          "end_time": "2023-08-08T19:34:48.193650",
          "exception": false,
          "start_time": "2023-08-08T19:34:45.165519",
          "status": "completed"
        },
        "tags": [],
        "id": "b0a4ed12"
      },
      "outputs": [],
      "source": [
        "model = Sequential()\n",
        "\n",
        "model.add(Conv2D(filters=4, kernel_size=(5, 5), padding='Same', activation='relu', input_shape=(28, 28, 1)))\n",
        "model.add(BatchNormalization())\n",
        "\n",
        "# model.add(Conv2D(filters=64, kernel_size=(5, 5), padding='Same', activation='relu'))\n",
        "# model.add(BatchNormalization())\n",
        "\n",
        "# model.add(MaxPool2D(pool_size=(2, 2)))\n",
        "# model.add(Dropout(0.25))\n",
        "\n",
        "# model.add(Conv2D(filters=64, kernel_size=(3, 3), padding='Same', activation='relu'))\n",
        "# model.add(BatchNormalization())\n",
        "\n",
        "# model.add(Conv2D(filters=64, kernel_size=(3, 3), padding='Same', activation='relu'))\n",
        "# model.add(BatchNormalization())\n",
        "# model.add(MaxPool2D(pool_size=(2, 2), strides=(2, 2)))\n",
        "# model.add(Dropout(0.25))\n",
        "\n",
        "# model.add(Conv2D(filters=64, kernel_size=(3, 3), padding='Same',  activation='relu'))\n",
        "# model.add(BatchNormalization())\n",
        "# model.add(Dropout(0.25))\n",
        "\n",
        "model.add(Flatten())\n",
        "model.add(Dense(16, activation='relu'))\n",
        "model.add(BatchNormalization())\n",
        "model.add(Dropout(0.25))\n",
        "\n",
        "model.add(Dense(10, activation ='softmax'))"
      ]
    },
    {
      "cell_type": "code",
      "execution_count": null,
      "id": "99908620",
      "metadata": {
        "execution": {
          "iopub.execute_input": "2023-08-08T19:34:48.209093Z",
          "iopub.status.busy": "2023-08-08T19:34:48.208764Z",
          "iopub.status.idle": "2023-08-08T19:34:48.499507Z",
          "shell.execute_reply": "2023-08-08T19:34:48.498406Z"
        },
        "papermill": {
          "duration": 0.303378,
          "end_time": "2023-08-08T19:34:48.504126",
          "exception": false,
          "start_time": "2023-08-08T19:34:48.200748",
          "status": "completed"
        },
        "tags": [],
        "id": "99908620"
      },
      "outputs": [],
      "source": [
        "# plot_model(model, to_file='model.png', show_shapes=True, show_layer_names=True)\n",
        "# from IPython.display import Image\n",
        "# Image(\"model.png\")"
      ]
    },
    {
      "cell_type": "code",
      "execution_count": null,
      "id": "60e1400c",
      "metadata": {
        "execution": {
          "iopub.execute_input": "2023-08-08T19:34:48.524819Z",
          "iopub.status.busy": "2023-08-08T19:34:48.524515Z",
          "iopub.status.idle": "2023-08-08T19:34:48.543042Z",
          "shell.execute_reply": "2023-08-08T19:34:48.542142Z"
        },
        "papermill": {
          "duration": 0.031417,
          "end_time": "2023-08-08T19:34:48.545052",
          "exception": false,
          "start_time": "2023-08-08T19:34:48.513635",
          "status": "completed"
        },
        "tags": [],
        "id": "60e1400c"
      },
      "outputs": [],
      "source": [
        "# Compile the model\n",
        "model.compile(optimizer='adam', loss='categorical_crossentropy', metrics=['accuracy'])"
      ]
    },
    {
      "cell_type": "code",
      "execution_count": null,
      "id": "50ea5bb5",
      "metadata": {
        "execution": {
          "iopub.execute_input": "2023-08-08T19:34:48.565725Z",
          "iopub.status.busy": "2023-08-08T19:34:48.564783Z",
          "iopub.status.idle": "2023-08-08T19:34:48.694438Z",
          "shell.execute_reply": "2023-08-08T19:34:48.693408Z"
        },
        "papermill": {
          "duration": 0.142461,
          "end_time": "2023-08-08T19:34:48.696905",
          "exception": false,
          "start_time": "2023-08-08T19:34:48.554444",
          "status": "completed"
        },
        "tags": [],
        "id": "50ea5bb5"
      },
      "outputs": [],
      "source": [
        "batch_size = 128\n",
        "\n",
        "datagen = ImageDataGenerator(\n",
        "        rotation_range=10,\n",
        "        zoom_range=0.10,\n",
        "        width_shift_range=0.1,\n",
        "        height_shift_range=0.1)\n",
        "\n",
        "train_gen = datagen.flow(X_train, Y_train, batch_size=batch_size)"
      ]
    },
    {
      "cell_type": "code",
      "execution_count": null,
      "id": "223ddd70",
      "metadata": {
        "execution": {
          "iopub.execute_input": "2023-08-08T19:34:48.717401Z",
          "iopub.status.busy": "2023-08-08T19:34:48.717068Z",
          "iopub.status.idle": "2023-08-08T20:04:47.843639Z",
          "shell.execute_reply": "2023-08-08T20:04:47.842671Z"
        },
        "papermill": {
          "duration": 1799.149467,
          "end_time": "2023-08-08T20:04:47.855988",
          "exception": false,
          "start_time": "2023-08-08T19:34:48.706521",
          "status": "completed"
        },
        "tags": [],
        "colab": {
          "base_uri": "https://localhost:8080/"
        },
        "id": "223ddd70",
        "outputId": "2e63f2e8-b3aa-4dbf-be8a-765b9cb9e312"
      },
      "outputs": [
        {
          "output_type": "stream",
          "name": "stdout",
          "text": [
            "Epoch 1/10\n",
            "788/788 [==============================] - 92s 115ms/step - loss: 0.6984 - accuracy: 0.7905 - val_loss: 0.2430 - val_accuracy: 0.9338\n",
            "Epoch 2/10\n",
            "788/788 [==============================] - 89s 113ms/step - loss: 0.3654 - accuracy: 0.8873 - val_loss: 0.1593 - val_accuracy: 0.9492\n",
            "Epoch 3/10\n",
            "788/788 [==============================] - 92s 117ms/step - loss: 0.3301 - accuracy: 0.8979 - val_loss: 0.1462 - val_accuracy: 0.9543\n",
            "Epoch 4/10\n",
            "788/788 [==============================] - 91s 115ms/step - loss: 0.3066 - accuracy: 0.9057 - val_loss: 0.1684 - val_accuracy: 0.9484\n",
            "Epoch 5/10\n",
            "788/788 [==============================] - 91s 116ms/step - loss: 0.2879 - accuracy: 0.9123 - val_loss: 0.1380 - val_accuracy: 0.9571\n",
            "Epoch 6/10\n",
            "788/788 [==============================] - 88s 112ms/step - loss: 0.2849 - accuracy: 0.9127 - val_loss: 0.1710 - val_accuracy: 0.9473\n",
            "Epoch 7/10\n",
            "788/788 [==============================] - 89s 113ms/step - loss: 0.2740 - accuracy: 0.9160 - val_loss: 0.1242 - val_accuracy: 0.9629\n",
            "Epoch 8/10\n",
            "788/788 [==============================] - 93s 118ms/step - loss: 0.2694 - accuracy: 0.9192 - val_loss: 0.1491 - val_accuracy: 0.9532\n",
            "Epoch 9/10\n",
            "788/788 [==============================] - 90s 115ms/step - loss: 0.2613 - accuracy: 0.9205 - val_loss: 0.1674 - val_accuracy: 0.9481\n",
            "Epoch 10/10\n",
            "788/788 [==============================] - 90s 114ms/step - loss: 0.2628 - accuracy: 0.9205 - val_loss: 0.1602 - val_accuracy: 0.9502\n"
          ]
        }
      ],
      "source": [
        "epochs = 10\n",
        "\n",
        "history = model.fit(train_gen, epochs=epochs, validation_data = (X_val, Y_val))"
      ]
    },
    {
      "cell_type": "code",
      "execution_count": null,
      "id": "80077f17",
      "metadata": {
        "execution": {
          "iopub.execute_input": "2023-08-08T20:04:47.891321Z",
          "iopub.status.busy": "2023-08-08T20:04:47.890425Z",
          "iopub.status.idle": "2023-08-08T20:04:48.346838Z",
          "shell.execute_reply": "2023-08-08T20:04:48.345907Z"
        },
        "papermill": {
          "duration": 0.476503,
          "end_time": "2023-08-08T20:04:48.349056",
          "exception": false,
          "start_time": "2023-08-08T20:04:47.872553",
          "status": "completed"
        },
        "tags": [],
        "colab": {
          "base_uri": "https://localhost:8080/",
          "height": 430
        },
        "id": "80077f17",
        "outputId": "f898fb56-d414-433d-d110-54fbf92824ec"
      },
      "outputs": [
        {
          "output_type": "display_data",
          "data": {
            "text/plain": [
              "<Figure size 640x480 with 2 Axes>"
            ],
            "image/png": "[encoded data removed]"
          },
          "metadata": {}
        }
      ],
      "source": [
        "# Evaluate the model\n",
        "fig, ax = plt.subplots(2,1)\n",
        "ax[0].plot(history.history['loss'], color='b', label=\"Training loss\")\n",
        "ax[0].plot(history.history['val_loss'], color='r', label=\"validation loss\",axes =ax[0])\n",
        "legend = ax[0].legend(loc='best', shadow=True)\n",
        "\n",
        "ax[1].plot(history.history['accuracy'], color='b', label=\"Training accuracy\")\n",
        "ax[1].plot(history.history['val_accuracy'], color='r',label=\"Validation accuracy\")\n",
        "legend = ax[1].legend(loc='best', shadow=True)"
      ]
    },
    {
      "cell_type": "code",
      "execution_count": null,
      "id": "e97c4bc7",
      "metadata": {
        "execution": {
          "iopub.execute_input": "2023-08-08T20:04:48.386039Z",
          "iopub.status.busy": "2023-08-08T20:04:48.385055Z",
          "iopub.status.idle": "2023-08-08T20:04:51.287863Z",
          "shell.execute_reply": "2023-08-08T20:04:51.286842Z"
        },
        "papermill": {
          "duration": 2.92385,
          "end_time": "2023-08-08T20:04:51.290344",
          "exception": false,
          "start_time": "2023-08-08T20:04:48.366494",
          "status": "completed"
        },
        "tags": [],
        "colab": {
          "base_uri": "https://localhost:8080/"
        },
        "id": "e97c4bc7",
        "outputId": "6cba82d7-2619-40db-adc6-69b0646aa5bf"
      },
      "outputs": [
        {
          "output_type": "stream",
          "name": "stdout",
          "text": [
            "875/875 [==============================] - 10s 11ms/step\n"
          ]
        }
      ],
      "source": [
        "result = np.zeros((X_test.shape[0], 10))\n",
        "\n",
        "result = model.predict(X_test)\n",
        "result = np.argmax(result, axis=1)\n",
        "result = pd.Series(result, name=\"Label\")"
      ]
    },
    {
      "cell_type": "code",
      "source": [
        "result.head()"
      ],
      "metadata": {
        "colab": {
          "base_uri": "https://localhost:8080/"
        },
        "id": "dkD3IQlYytl9",
        "outputId": "7ebd9e2c-434a-4fc5-e9b4-712c023334b4"
      },
      "id": "dkD3IQlYytl9",
      "execution_count": null,
      "outputs": [
        {
          "output_type": "execute_result",
          "data": {
            "text/plain": [
              "0    2\n",
              "1    0\n",
              "2    9\n",
              "3    2\n",
              "4    3\n",
              "Name: Label, dtype: int64"
            ]
          },
          "metadata": {},
          "execution_count": 77
        }
      ]
    }
  ],
  "metadata": {
    "kernelspec": {
      "display_name": "Python 3",
      "name": "python3"
    },
    "language_info": {
      "codemirror_mode": {
        "name": "ipython",
        "version": 3
      },
      "file_extension": ".py",
      "mimetype": "text/x-python",
      "name": "python",
      "nbconvert_exporter": "python",
      "pygments_lexer": "ipython3",
      "version": "3.10.12"
    },
    "papermill": {
      "default_parameters": {},
      "duration": 1837.639464,
      "end_time": "2023-08-08T20:04:54.917069",
      "environment_variables": {},
      "exception": null,
      "input_path": "__notebook__.ipynb",
      "output_path": "__notebook__.ipynb",
      "parameters": {},
      "start_time": "2023-08-08T19:34:17.277605",
      "version": "2.4.0"
    },
    "colab": {
      "provenance": []
    },
    "accelerator": "TPU"
  },
  "nbformat": 4,
  "nbformat_minor": 5
}